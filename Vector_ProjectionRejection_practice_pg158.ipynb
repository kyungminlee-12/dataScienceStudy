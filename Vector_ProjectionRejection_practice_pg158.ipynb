{
 "cells": [
  {
   "cell_type": "markdown",
   "metadata": {},
   "source": [
    "## data science school pg 31\n",
    "### 연습문제 3.1.9"
   ]
  },
  {
   "cell_type": "markdown",
   "metadata": {},
   "source": [
    "## 피타고라스 정리의 일부로 보면 가능\n",
    "### 문제) \n",
    "$(x^\\perp{v})^2$= $x^2$ - $(x^\\Vert{v})^2$\n",
    "\n",
    "x.T를 v와 내적한 것은 $x^\\Vert{v}$와 동일하다"
   ]
  },
  {
   "cell_type": "code",
   "execution_count": 1,
   "metadata": {},
   "outputs": [],
   "source": [
    "import numpy as np\n",
    "import matplotlib.pyplot as plt"
   ]
  },
  {
   "cell_type": "code",
   "execution_count": 2,
   "metadata": {},
   "outputs": [],
   "source": [
    "v=np.array([2, 1])/ np.sqrt(5)   #벡터를 그 크기로 나누어 단위 벡터와 한 것 같음\n",
    "x=np.array([1, 3])\n",
    "x_pro=np.dot(x, v)*v     #np.dot는 두 벡터를 곱하고 각 벡터의 요소 값들을 모두 결과를 합한 결과\n",
    "                         #x벡터를 단위 벡터인 v벡터로 정사영 한 벡터\n",
    "x_re=x-x_pro"
   ]
  },
  {
   "cell_type": "code",
   "execution_count": 7,
   "metadata": {},
   "outputs": [
    {
     "data": {
      "image/png": "[encoded data removed]",
      "text/plain": [
       "<Figure size 432x288 with 1 Axes>"
      ]
     },
     "metadata": {
      "needs_background": "light"
     },
     "output_type": "display_data"
    }
   ],
   "source": [
    "plt.plot(0, 0, 'kP', ms=10)\n",
    "\n",
    "#이 벡터는 단위 벡터인 v벡터의 방향으로 x벡터를 내적한 것이다. (백터는 0, 0에서 시작한다.)\n",
    "plt.annotate('', xy=x_pro, xytext=(0, 0), arrowprops=dict(facecolor='green'))           #검은색 벡터와 방향은 같지만 긴 초록 벡터\n",
    "\n",
    "#xy=는 벡터의 방향을 설정하고, xytext는 벡터의 원점을 지정한다.\n",
    "#v벡터는 방향 설정 후 벡터의 크기로 나눈 벡터인 단위 벡터이다.\n",
    "plt.annotate('', xy=v, xytext=(0, 0), arrowprops=dict(facecolor='black'))\n",
    "\n",
    "#v벡터를 x축과 동등하게 기준으로 두었을 때의 x벡터의 투영성분의 끝 점에서 나머지 이동하여 x축의 최종 도착지에 도착.\n",
    "plt.annotate('', xy=x, xytext=x_pro, arrowprops=dict(facecolor='green', shrink=0.02))   #혼자 방향 다른 초록색 벡터\n",
    "\n",
    "plt.plot([-2, 8], [-1, 4], 'b--', lw=2)   #파란색 끊어진 점선을 'b--'\n",
    "plt.plot([1, 2], [3, 1], 'g:', lw=2)      #'lw'은 line width로 줄의 굵기를 지정한다.\n",
    "plt.plot(x[0], x[1], 'ro', ms=10)         #'ro'는 빨간색 점과 ms는 그 점의 크기를 의미한다.\n",
    "\n",
    "plt.text(0.1, 0.5, '$v$')\n",
    "plt.text(1.1, 0.9, '$x^{\\Vert{v}}$ ')\n",
    "plt.text(1.6, 2.2, '$x^{\\perp{v}}$ ')\n",
    "plt.text(0.6,3.2, '$x$')\n",
    "\n",
    "plt.xticks(np.arange(-3,15))\n",
    "plt.yticks(np.arange(-1,5))\n",
    "\n",
    "plt.xlim(-3, 7)\n",
    "plt.ylim(-1, 5)\n",
    "plt.show()"
   ]
  },
  {
   "cell_type": "markdown",
   "metadata": {},
   "source": [
    "### 158pg에 나와있는 또 다른 코드"
   ]
  },
  {
   "cell_type": "code",
   "execution_count": 9,
   "metadata": {},
   "outputs": [
    {
     "data": {
      "image/png": "[encoded data removed]",
      "text/plain": [
       "<Figure size 432x288 with 1 Axes>"
      ]
     },
     "metadata": {
      "needs_background": "light"
     },
     "output_type": "display_data"
    }
   ],
   "source": [
    "v=np.array([2, 1])/ np.sqrt(5)\n",
    "x=np.array([1, 3])\n",
    "plt.plot(0, 0, 'kP', ms=10)\n",
    "\n",
    "black={'facecolor': 'black'}\n",
    "plt.annotate('', xy=v, xytext=(0, 0), arrowprops=black)\n",
    "plt.plot([-2, 8], [-1, 4], 'b--', lw=2)\n",
    "plt.plot([1, 2], [3, 1], 'g:', lw=2)      #'lw'은 line width로 줄의 굵기를 지정한다.\n",
    "plt.plot(x[0], x[1], 'ro', ms=10)         #'ro'는 빨간색 점과 ms는 그 점의 크기를 의미한다.\n",
    "\n",
    "plt.text(0.1, 0.5, '$v$')\n",
    "plt.text(0.6,3.2, '$x$')\n",
    "\n",
    "plt.xticks(np.arange(-3,15))\n",
    "plt.yticks(np.arange(-1,5))\n",
    "\n",
    "plt.xlim(-3, 7)\n",
    "plt.ylim(-1, 5)\n",
    "plt.show()"
   ]
  },
  {
   "cell_type": "code",
   "execution_count": null,
   "metadata": {},
   "outputs": [],
   "source": []
  }
 ],
 "metadata": {
  "kernelspec": {
   "display_name": "Python 3",
   "language": "python",
   "name": "python3"
  },
  "language_info": {
   "codemirror_mode": {
    "name": "ipython",
    "version": 3
   },
   "file_extension": ".py",
   "mimetype": "text/x-python",
   "name": "python",
   "nbconvert_exporter": "python",
   "pygments_lexer": "ipython3",
   "version": "3.7.6"
  }
 },
 "nbformat": 4,
 "nbformat_minor": 4
}
