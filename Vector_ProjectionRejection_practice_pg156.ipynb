{
 "cells": [
  {
   "cell_type": "markdown",
   "metadata": {},
   "source": [
    "### data science school pg156\n",
    "# 투영 성분과 직교 성분\n",
    "\n",
    "$a^{\\perp b}$: 직교 성분\n",
    "\n",
    "$a^{\\Vert b}$: 투영 성분\n",
    "~~~\n",
    "투영 성분은 벡터를 x축으로 전사영? 한 것이다. (x축 성분 만 남아있음)\n",
    "직교 성분은 벡터의 y축 성분만 남겨 놓은 인것 같다. (y축 성분만 남아있음)\n",
    "~~~"
   ]
  },
  {
   "cell_type": "code",
   "execution_count": 1,
   "metadata": {},
   "outputs": [],
   "source": [
    "import numpy as np\n",
    "import matplotlib.pyplot as plt"
   ]
  },
  {
   "cell_type": "code",
   "execution_count": 6,
   "metadata": {},
   "outputs": [],
   "source": [
    "black=dict(arrowstyle='->', color='black')     #annotate로 화살표를 그릴 때 그 디자인은 dictionary로 지정한다\n",
    "green=dict(arrowstyle='->', color='green')\n",
    "blue=dict(arrowstyle='->', color='blue')"
   ]
  },
  {
   "cell_type": "code",
   "execution_count": 11,
   "metadata": {},
   "outputs": [
    {
     "data": {
      "image/png": "[encoded data removed]",
      "text/plain": [
       "<Figure size 432x288 with 1 Axes>"
      ]
     },
     "metadata": {
      "needs_background": "light"
     },
     "output_type": "display_data"
    }
   ],
   "source": [
    "a=np.array([1, 2])\n",
    "b=np.array([2, 0])\n",
    "\n",
    "a2=(a@b) /np.linalg.norm(b)*np.array([1, 0])\n",
    "a1=a-a2\n",
    "\n",
    "plt.annotate('', xy=b, xytext=(0, 0), arrowprops=green)    #annotate는 벡터를 그리는 함수이다\n",
    "plt.annotate('', xy=a2, xytext=(0, 0), arrowprops=blue)    #xy는 벡터의 방향을 설정한다.\n",
    "plt.annotate('', xy=a1, xytext=(0, 0), arrowprops=blue)    #xytext는 벡터의 시작점을 의미한다.\n",
    "plt.annotate('', xy=a, xytext=(0, 0), arrowprops=red)      #arrowprops는 dict 형태로 지정한다.\n",
    "\n",
    "plt.plot(0, 0, 'kP', ms=10)            #'kP'는 X 표시를 그린다, ms는 그 크기를 지정한다.\n",
    "plt.plot(a[0], a[1], 'ro', ms=10)      #'ro'는 빨간색 점을 그린다.\n",
    "plt.plot(b[0], b[1], 'ro', ms=10)\n",
    "\n",
    "plt.text(0.35, 1.15, '$a$')\n",
    "plt.text(1.55, 0.15, '$b$')\n",
    "plt.text(-0.5, 1.05, '$a^{\\perp b}$')       #직교 성분 ($는 특수 문자를 그릴 때 사용되는 것 같음)\n",
    "plt.text(0.50, 0.15, '$a^{\\Vert b}$')       #투영 성분\n",
    "\n",
    "plt.xticks(np.arange(-10, 10))     \n",
    "plt.yticks(np.arange(-10, 10))\n",
    "\n",
    "plt.xlim(-1.2, 4.1)\n",
    "plt.ylim(-0.5, 3.2)\n",
    "\n",
    "plt.show()"
   ]
  },
  {
   "cell_type": "code",
   "execution_count": null,
   "metadata": {},
   "outputs": [],
   "source": []
  }
 ],
 "metadata": {
  "kernelspec": {
   "display_name": "Python 3",
   "language": "python",
   "name": "python3"
  },
  "language_info": {
   "codemirror_mode": {
    "name": "ipython",
    "version": 3
   },
   "file_extension": ".py",
   "mimetype": "text/x-python",
   "name": "python",
   "nbconvert_exporter": "python",
   "pygments_lexer": "ipython3",
   "version": "3.7.6"
  }
 },
 "nbformat": 4,
 "nbformat_minor": 4
}
