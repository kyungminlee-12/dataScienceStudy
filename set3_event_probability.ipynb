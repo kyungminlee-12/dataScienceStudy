{
 "cells": [
  {
   "cell_type": "markdown",
   "metadata": {},
   "source": [
    "# 사건(event)\n",
    "~~~\n",
    "표본공간의 부분집합\n",
    "파이썬으로 부분집합을 구현할 때 set 자료형이 아닌 frozenset 자료형으로 만든 이유는 dictionary의 key를 사용하기 위해서다\n",
    "~~~\n",
    "### data science study pg 387"
   ]
  },
  {
   "cell_type": "code",
   "execution_count": 1,
   "metadata": {},
   "outputs": [
    {
     "data": {
      "text/plain": [
       "{frozenset(), frozenset({'T'}), frozenset({'H'}), frozenset({'H', 'T'})}"
      ]
     },
     "execution_count": 1,
     "metadata": {},
     "output_type": "execute_result"
    }
   ],
   "source": [
    "A=frozenset([])\n",
    "B=frozenset(['H'])\n",
    "C=frozenset(['T'])\n",
    "D=frozenset(['H', 'T'])\n",
    "set([A, B, C, D])"
   ]
  },
  {
   "cell_type": "markdown",
   "metadata": {},
   "source": [
    "### 6.2.4 연습문제)\n",
    "~~~\n",
    "1. 동전을 2번 던지는 문제의 표본공간의 모든 사건을 구하고 이를 frozenset의 set로 생성하라\n",
    "~~~"
   ]
  },
  {
   "cell_type": "markdown",
   "metadata": {},
   "source": [
    "**내 풀이)**\n",
    "~~~\n",
    "근데 뭔가 잘못 이해한 풀이인 것 같음\n",
    "~~~"
   ]
  },
  {
   "cell_type": "code",
   "execution_count": 2,
   "metadata": {},
   "outputs": [
    {
     "data": {
      "text/plain": [
       "{frozenset({'HH'}), frozenset({'HT'}), frozenset({'TH'}), frozenset({'TT'})}"
      ]
     },
     "execution_count": 2,
     "metadata": {},
     "output_type": "execute_result"
    }
   ],
   "source": [
    "HH=frozenset(['HH'])\n",
    "HT=frozenset(['HT'])\n",
    "TH=frozenset(['TH'])\n",
    "TT=frozenset(['TT'])\n",
    "set([HH, HT, TH, TT])"
   ]
  },
  {
   "cell_type": "markdown",
   "metadata": {},
   "source": [
    "**답지 풀이)**"
   ]
  },
  {
   "cell_type": "code",
   "execution_count": 3,
   "metadata": {},
   "outputs": [],
   "source": [
    "from itertools import chain, combinations"
   ]
  },
  {
   "cell_type": "code",
   "execution_count": 5,
   "metadata": {},
   "outputs": [],
   "source": [
    "def get_set_of_subsets(omega):\n",
    "    return set([frozenset(s) for s in chain.from_iterable(combinations(omega, r) for r in range(len(omega)+1))])"
   ]
  },
  {
   "cell_type": "markdown",
   "metadata": {},
   "source": [
    "## for문을 사용하지 않고 list 이어 붙이기 \n",
    " \n",
    " my_list = [[1, 2], [3, 4], [5, 6]]\n",
    "\n",
    "### 방법 1 - sum 함수\n",
    "answer = sum(my_list, [])\n",
    "\n",
    "### 방법 2 - itertools.chain\n",
    "import itertools\n",
    "list(itertools.chain.from_iterable(my_list))\n",
    "\n",
    "### 방법 3 - itertools와 unpacking\n",
    "import itertools\n",
    "list(itertools.chain(*my_list))\n",
    "\n",
    "### 방법4 - list comprehension 이용\n",
    "[element for array in my_list for element in array]\n",
    "\n",
    "### 방법 5 - reduce 함수 이용1\n",
    "from functools import reduce\n",
    "list(reduce(lambda x, y: x+y, my_list))\n",
    "\n",
    "### 방법 6 - reduce 함수 이용2\n",
    "from functools import reduce\n",
    "import operator\n",
    "list(reduce(operator.add, my_list))\n",
    "\n",
    "### 방법 7 - numpy 라이브러리의 flatten 이용\n",
    "import numpy as np\n",
    "np.array(my_list).flatten().tolist()"
   ]
  },
  {
   "cell_type": "code",
   "execution_count": 6,
   "metadata": {},
   "outputs": [
    {
     "data": {
      "text/plain": [
       "{frozenset(),\n",
       " frozenset({'HT', 'TH'}),\n",
       " frozenset({'HH', 'TH'}),\n",
       " frozenset({'HT'}),\n",
       " frozenset({'HH', 'HT'}),\n",
       " frozenset({'HH', 'HT', 'TH'}),\n",
       " frozenset({'TT'}),\n",
       " frozenset({'TH', 'TT'}),\n",
       " frozenset({'HH', 'TT'}),\n",
       " frozenset({'HT', 'TT'}),\n",
       " frozenset({'HH'}),\n",
       " frozenset({'HH', 'HT', 'TT'}),\n",
       " frozenset({'TH'}),\n",
       " frozenset({'HH', 'TH', 'TT'}),\n",
       " frozenset({'HT', 'TH', 'TT'}),\n",
       " frozenset({'HH', 'HT', 'TH', 'TT'})}"
      ]
     },
     "execution_count": 6,
     "metadata": {},
     "output_type": "execute_result"
    }
   ],
   "source": [
    "omega_1={'HH', 'HT', 'TH', 'TT'}\n",
    "SS2=get_set_of_subsets(omega_1)\n",
    "SS2"
   ]
  },
  {
   "cell_type": "markdown",
   "metadata": {},
   "source": [
    "# 확률\n",
    "~~~\n",
    "확률은 표본이 아닌 사건(부분집합)에 대해 정의하는 것\n",
    "~~~"
   ]
  },
  {
   "cell_type": "code",
   "execution_count": 8,
   "metadata": {},
   "outputs": [
    {
     "data": {
      "text/plain": [
       "{frozenset(): 0,\n",
       " frozenset({'H'}): 0.4,\n",
       " frozenset({'T'}): 0.6,\n",
       " frozenset({'H', 'T'}): 1}"
      ]
     },
     "execution_count": 8,
     "metadata": {},
     "output_type": "execute_result"
    }
   ],
   "source": [
    "P={A: 0, B: 0.4, C: 0.6, D: 1}\n",
    "P"
   ]
  },
  {
   "cell_type": "markdown",
   "metadata": {},
   "source": [
    "**D의 경우는 H나 T가 나올 확률으로 모든 경우의 수를 의미한다.**"
   ]
  },
  {
   "cell_type": "markdown",
   "metadata": {},
   "source": [
    "P({1, 2})=P({1})+P({2})라는 규칙 만족"
   ]
  },
  {
   "cell_type": "markdown",
   "metadata": {},
   "source": [
    "### 6.2.6 연습문제)\n",
    "~~~\n",
    "두 조건 P({1})=0.5, P({6})=0을 만족하도록 주사위의 확률을 모든 사건(부분집합에 대해 할당하고 이를 파이썬으로 구현\n",
    "~~~"
   ]
  },
  {
   "cell_type": "code",
   "execution_count": 13,
   "metadata": {},
   "outputs": [
    {
     "data": {
      "text/plain": [
       "{frozenset({1, 3, 5}): 0.76,\n",
       " frozenset({1, 4}): 0.63,\n",
       " frozenset({4, 6}): 0.13,\n",
       " frozenset({2, 3}): 0.22999999999999998,\n",
       " frozenset({2, 3, 4}): 0.36,\n",
       " frozenset({1, 4, 5, 6}): 0.77,\n",
       " frozenset({2, 6}): 0.11,\n",
       " frozenset({4, 5}): 0.27,\n",
       " frozenset({2, 3, 5, 6}): 0.37,\n",
       " frozenset({1, 2, 3, 6}): 0.73,\n",
       " frozenset({1}): 0.5,\n",
       " frozenset({1, 2, 3, 4, 5, 6}): 1.0,\n",
       " frozenset({2, 4, 5, 6}): 0.38,\n",
       " frozenset({4, 5, 6}): 0.27,\n",
       " frozenset({1, 3, 4, 6}): 0.75,\n",
       " frozenset({2, 3, 4, 6}): 0.36,\n",
       " frozenset({1, 2, 3, 4, 6}): 0.86,\n",
       " frozenset({1, 3, 4, 5, 6}): 0.89,\n",
       " frozenset({1, 4, 6}): 0.63,\n",
       " frozenset({3, 4}): 0.25,\n",
       " frozenset({2, 4, 6}): 0.24,\n",
       " frozenset({3, 4, 5, 6}): 0.39,\n",
       " frozenset({1, 2, 3, 4, 5}): 1.0,\n",
       " frozenset({2, 4}): 0.24,\n",
       " frozenset({5, 6}): 0.14,\n",
       " frozenset({2, 3, 5}): 0.37,\n",
       " frozenset({3, 4, 6}): 0.25,\n",
       " frozenset({3, 5}): 0.26,\n",
       " frozenset({2, 5, 6}): 0.25,\n",
       " frozenset({3, 4, 5}): 0.39,\n",
       " frozenset({1, 6}): 0.5,\n",
       " frozenset({1, 2, 3}): 0.73,\n",
       " frozenset({1, 2, 4, 6}): 0.74,\n",
       " frozenset({1, 3}): 0.62,\n",
       " frozenset({1, 2, 6}): 0.61,\n",
       " frozenset({1, 3, 4}): 0.75,\n",
       " frozenset({1, 2, 4, 5}): 0.88,\n",
       " frozenset({1, 3, 5, 6}): 0.76,\n",
       " frozenset({1, 2, 3, 5, 6}): 0.87,\n",
       " frozenset({3, 6}): 0.12,\n",
       " frozenset({2, 3, 6}): 0.22999999999999998,\n",
       " frozenset({2, 3, 4, 5}): 0.5,\n",
       " frozenset({1, 2, 5}): 0.75,\n",
       " frozenset({1, 5}): 0.64,\n",
       " frozenset({1, 4, 5}): 0.77,\n",
       " frozenset({1, 2, 3, 4}): 0.86,\n",
       " frozenset({2, 3, 4, 5, 6}): 0.5,\n",
       " frozenset({5}): 0.14,\n",
       " frozenset({4}): 0.13,\n",
       " frozenset({2}): 0.11,\n",
       " frozenset({1, 2, 4, 5, 6}): 0.88,\n",
       " frozenset({1, 2, 4}): 0.74,\n",
       " frozenset({1, 2}): 0.61,\n",
       " frozenset({1, 3, 6}): 0.62,\n",
       " frozenset({1, 2, 5, 6}): 0.75,\n",
       " frozenset({1, 2, 3, 5}): 0.87,\n",
       " frozenset({1, 3, 4, 5}): 0.89,\n",
       " frozenset({2, 4, 5}): 0.38,\n",
       " frozenset({2, 5}): 0.25,\n",
       " frozenset({3, 5, 6}): 0.26,\n",
       " frozenset({3}): 0.12,\n",
       " frozenset({6}): 0.0,\n",
       " frozenset(): 0.0,\n",
       " frozenset({1, 5, 6}): 0.64}"
      ]
     },
     "execution_count": 13,
     "metadata": {},
     "output_type": "execute_result"
    }
   ],
   "source": [
    "omega_3={1, 2, 3, 4, 5, 6}\n",
    "SS3=get_set_of_subsets(omega_3)\n",
    "\n",
    "P3={}\n",
    "for i in SS3:\n",
    "    probabilty=0.0\n",
    "    if 1 in i:\n",
    "        probabilty+=0.5    #P({1})=0.5\n",
    "    if 2 in i:\n",
    "        probabilty+=0.11\n",
    "    if 3 in i:\n",
    "        probabilty+=0.12\n",
    "    if 4 in i:\n",
    "        probabilty+=0.13\n",
    "    if 5 in i: \n",
    "        probabilty+=0.14\n",
    "    if 6 in i:\n",
    "        probabilty+=0\n",
    "        \n",
    "    P3[i]=probabilty\n",
    "P3   "
   ]
  },
  {
   "cell_type": "code",
   "execution_count": 15,
   "metadata": {},
   "outputs": [
    {
     "name": "stdout",
     "output_type": "stream",
     "text": [
      "<class 'dict'>\n"
     ]
    }
   ],
   "source": [
    "print(type(P3))"
   ]
  },
  {
   "cell_type": "markdown",
   "metadata": {},
   "source": [
    "### 6.2.7 연습문제)\n",
    "~~~\n",
    "1. 약속날짜가 31일 인가 아닌가 구하는 확률\n",
    "\n",
    "2. 사과와 오렌지만 파는 과일가게에서 손님이 선택한 과일이 어떤 과일인지 결정하는 문제에 대해 확률 할당\n",
    "\n",
    "3. 사과와 오렌지만 파는 과일가게에 과일이 100개가 진열되어 있고 이 중 70개가 사과, 30개가 오렌지. 손님이 선택한 과일이 어떤 과일인지 결정하는 문제에 대한 확률 할당하기\n",
    "~~~"
   ]
  },
  {
   "cell_type": "code",
   "execution_count": 16,
   "metadata": {},
   "outputs": [
    {
     "data": {
      "text/plain": [
       "{'True': 0.019178082191780823, 'False': 0.9808219178082191}"
      ]
     },
     "execution_count": 16,
     "metadata": {},
     "output_type": "execute_result"
    }
   ],
   "source": [
    "P4={'True': 7/365, 'False': 358/365}\n",
    "P4"
   ]
  },
  {
   "cell_type": "code",
   "execution_count": 17,
   "metadata": {},
   "outputs": [
    {
     "data": {
      "text/plain": [
       "{frozenset({'A'}): 0.5, frozenset({'O'}): 0.5}"
      ]
     },
     "execution_count": 17,
     "metadata": {},
     "output_type": "execute_result"
    }
   ],
   "source": [
    "P5={}\n",
    "P5[frozenset('A')]=0.5\n",
    "P5[frozenset('O')]=0.5\n",
    "P5"
   ]
  },
  {
   "cell_type": "code",
   "execution_count": 18,
   "metadata": {},
   "outputs": [
    {
     "data": {
      "text/plain": [
       "{frozenset({'A'}): 0.7, frozenset({'O'}): 0.3}"
      ]
     },
     "execution_count": 18,
     "metadata": {},
     "output_type": "execute_result"
    }
   ],
   "source": [
    "P6={}\n",
    "P6[frozenset('A')]=70/100\n",
    "P6[frozenset('O')]=30/100\n",
    "P6"
   ]
  },
  {
   "cell_type": "code",
   "execution_count": null,
   "metadata": {},
   "outputs": [],
   "source": []
  }
 ],
 "metadata": {
  "kernelspec": {
   "display_name": "Python 3",
   "language": "python",
   "name": "python3"
  },
  "language_info": {
   "codemirror_mode": {
    "name": "ipython",
    "version": 3
   },
   "file_extension": ".py",
   "mimetype": "text/x-python",
   "name": "python",
   "nbconvert_exporter": "python",
   "pygments_lexer": "ipython3",
   "version": "3.7.6"
  }
 },
 "nbformat": 4,
 "nbformat_minor": 4
}
