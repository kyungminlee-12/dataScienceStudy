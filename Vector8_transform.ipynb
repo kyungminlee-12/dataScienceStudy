{
 "cells": [
  {
   "cell_type": "markdown",
   "metadata": {},
   "source": [
    "# 변환행렬\n",
    "### data science study pg 181\n",
    "~~~\n",
    "원래의 기저벡터가 아닌 새로운 기저벡터를 기존 기저벡터에 대한 열벡터로 보고 이를 묶은 행렬을 A라고 하자\n",
    "A와 기존의 기저벡터를 내적하면 새로운 기저벡터가 된다\n",
    "~~~\n",
    "$g_1$ = 2 $e_1$ + 2 $e_2$\n",
    "\n",
    "$g_2$ = -2 $e_1$ + 2 $e_2$\n",
    "\n",
    "A=[[2, 2], [-2, 2]]"
   ]
  },
  {
   "cell_type": "code",
   "execution_count": 1,
   "metadata": {},
   "outputs": [],
   "source": [
    "import matplotlib.pyplot as plt\n",
    "import numpy as np"
   ]
  },
  {
   "cell_type": "code",
   "execution_count": 2,
   "metadata": {},
   "outputs": [],
   "source": [
    "gray={'facecolor':'gray'}\n",
    "black={'facecolor': 'black'}\n",
    "red={'facecolor':'red'}\n",
    "green={'facecolor':'green'}\n",
    "blue={'facecolor':'blue'}\n",
    "lightgreen={'facecolor':'lightgreen'}"
   ]
  },
  {
   "cell_type": "code",
   "execution_count": 4,
   "metadata": {},
   "outputs": [
    {
     "data": {
      "image/png": "[encoded data removed]",
      "text/plain": [
       "<Figure size 432x288 with 1 Axes>"
      ]
     },
     "metadata": {
      "needs_background": "light"
     },
     "output_type": "display_data"
    }
   ],
   "source": [
    "#기존의 기저벡터\n",
    "e1=np.array([1, 0])\n",
    "e2=np.array([0, 1])\n",
    "\n",
    "#이게 뭔뜻이지 모르겠음\n",
    "a=np.array([2, 2])\n",
    "\n",
    "#원하는 새로운 기저벡터\n",
    "g1=np.array([1, 1])/np.sqrt(2)\n",
    "g2=np.array([-1, 1])/np.sqrt(2)\n",
    "\n",
    "plt.annotate('', xy=e1, xytext=(0, 0), arrowprops=green)\n",
    "plt.annotate('', xy=e2, xytext=(0, 0), arrowprops=green)\n",
    "plt.annotate('', xy=g1, xytext=(0, 0), arrowprops=red)\n",
    "plt.annotate('', xy=g2, xytext=(0, 0), arrowprops=red)\n",
    "\n",
    "plt.text(-0.18, 0.5, '$e_2$', fontdict={'size': 18})\n",
    "plt.text(0.5, -0.2, '$e_1$', fontdict={'size': 18})\n",
    "plt.text(0.3, 0.5, '$g_1$', fontdict={'size': 18})\n",
    "plt.text(-0.45, 0.2, '$g_2$', fontdict={'size': 18})\n",
    "\n",
    "plt.xticks(np.arange(-2, 4))\n",
    "plt.yticks(np.arange(-1, 4))\n",
    "plt.xlim(-1.2, 1.7)\n",
    "plt.ylim(-0.5, 1.3)\n",
    "plt.show()"
   ]
  },
  {
   "cell_type": "markdown",
   "metadata": {},
   "source": [
    "# 좌표변환\n",
    "### pg 182\n",
    "~~~\n",
    "새로운 기저벡터에 대해 좌표를 계산하는 것을 좌표변환이라고 한다.\n",
    "역행렬을 사용한다\n",
    "~~~"
   ]
  },
  {
   "cell_type": "code",
   "execution_count": 7,
   "metadata": {},
   "outputs": [
    {
     "data": {
      "image/png": "[encoded data removed]",
      "text/plain": [
       "<Figure size 432x288 with 1 Axes>"
      ]
     },
     "metadata": {
      "needs_background": "light"
     },
     "output_type": "display_data"
    }
   ],
   "source": [
    "e1=np.array([1, 0])\n",
    "e2=np.array([0, 1])\n",
    "x=np.array([2, 2])\n",
    "g1=np.array([1, 1])/np.sqrt(2)\n",
    "g2=np.array([-1, 1])/np.sqrt(2)\n",
    "\n",
    "plt.annotate('', xy=e1, xytext=(0, 0), arrowprops=green)\n",
    "plt.annotate('', xy=e2, xytext=(0, 0), arrowprops=green)\n",
    "plt.annotate('', xy=x, xytext=(0, 0), arrowprops=gray)\n",
    "plt.annotate('', xy=g1, xytext=(0, 0), arrowprops=red)\n",
    "plt.annotate('', xy=g2, xytext=(0, 0), arrowprops=red)\n",
    "\n",
    "plt.plot(0, 0, 'ro', ms=10)    #빨간색 원을 ms=10 크기로 그리기\n",
    "plt.plot(x[0], x[1], 'ro', ms=10)\n",
    "\n",
    "plt.text(1.05, 1.35, '$x$', fontdict={'size': 18})\n",
    "plt.text(-0.3, 0.5, '$e_2$', fontdict={'size': 18})\n",
    "plt.text(0.5, -0.2, '$e_1$', fontdict={'size': 18})\n",
    "plt.text(0.2, 0.5, '$g_1$', fontdict={'size': 18})\n",
    "plt.text(-0.6, 0.2, '$g_2$', fontdict={'size': 18})\n",
    "\n",
    "plt.xticks(np.arange(-2, 4))\n",
    "plt.yticks(np.arange(-0.5, 3))\n",
    "plt.xlim(-1.5, 3.5)\n",
    "plt.ylim(-0.5, 3)\n",
    "plt.show()"
   ]
  },
  {
   "cell_type": "markdown",
   "metadata": {},
   "source": [
    "#### 넘파이를 사용하면 다음과 같이 계산할 수 있다.\n",
    "~~~\n",
    "새로운 좌표벡터는 원래의 좌표벡터의 변환행렬을 곱하여 구할 수 있다\n",
    "~~~"
   ]
  },
  {
   "cell_type": "code",
   "execution_count": 8,
   "metadata": {},
   "outputs": [
    {
     "data": {
      "text/plain": [
       "array([[ 0.70710678, -0.70710678],\n",
       "       [ 0.70710678,  0.70710678]])"
      ]
     },
     "execution_count": 8,
     "metadata": {},
     "output_type": "execute_result"
    }
   ],
   "source": [
    "A=np.vstack([g1, g2]).T   #vstack으로 행을 추가한다.\n",
    "A"
   ]
  },
  {
   "cell_type": "code",
   "execution_count": 9,
   "metadata": {},
   "outputs": [
    {
     "data": {
      "text/plain": [
       "array([[ 0.70710678,  0.70710678],\n",
       "       [-0.70710678,  0.70710678]])"
      ]
     },
     "execution_count": 9,
     "metadata": {},
     "output_type": "execute_result"
    }
   ],
   "source": [
    "Ainv=np.linalg.inv(A)     #역행렬: np.linalg.inv(x)\n",
    "Ainv"
   ]
  },
  {
   "cell_type": "code",
   "execution_count": 10,
   "metadata": {},
   "outputs": [
    {
     "data": {
      "text/plain": [
       "array([2.82842712, 0.        ])"
      ]
     },
     "execution_count": 10,
     "metadata": {},
     "output_type": "execute_result"
    }
   ],
   "source": [
    "Ainv.dot(x)               #내적: np.dot(a, b)는 a와 b를 내적하는 함수"
   ]
  },
  {
   "cell_type": "markdown",
   "metadata": {},
   "source": [
    "### 연습문제 3.2.8\n",
    "~~~\n",
    "만약 새로운 기저벡터의 좌표가 다음과 같다면 원래의 좌표(1, 0), (1, 2), (-1, 2)는 각각 어떤 좌표값이 될지 계산하라\n",
    "\n",
    "g1=[1, 0.75], g2=[-1, 0.75]\n",
    "~~~"
   ]
  },
  {
   "cell_type": "code",
   "execution_count": 12,
   "metadata": {},
   "outputs": [
    {
     "name": "stdout",
     "output_type": "stream",
     "text": [
      "v1_t: [ 0.5 -0.5]\n",
      "v2_t: [1.83333333 0.83333333]\n",
      "v3_t: [0.83333333 1.83333333]\n"
     ]
    }
   ],
   "source": [
    "g1=np.array([1, 0.75])\n",
    "g2=np.array([-1, 0.75])\n",
    "\n",
    "v1=np.array([1, 0])\n",
    "v2=np.array([1, 2])\n",
    "v3=np.array([-1, 2])\n",
    "\n",
    "A=np.vstack([g1, g2]).T   #T는 전치연산을 할 때 사용 (전치연산은 행과 열을 바꾸는 것이다.)\n",
    "                          #vstack는 행을 추가할 때, hstack는 열을 추가할 때\n",
    "Ainv=np.linalg.inv(A)     #Avin은 A의 역행렬 (np.linalg.inv를 사용)\n",
    "\n",
    "v1_t=np.dot(Ainv, v1)     #np.dot는 내적을 한다.\n",
    "v2_t=np.dot(Ainv, v2)\n",
    "v3_t=np.dot(Ainv, v3)\n",
    "\n",
    "print('v1_t:', v1_t)\n",
    "print('v2_t:', v2_t)\n",
    "print('v3_t:', v3_t)"
   ]
  },
  {
   "cell_type": "code",
   "execution_count": null,
   "metadata": {},
   "outputs": [],
   "source": []
  }
 ],
 "metadata": {
  "kernelspec": {
   "display_name": "Python 3",
   "language": "python",
   "name": "python3"
  },
  "language_info": {
   "codemirror_mode": {
    "name": "ipython",
    "version": 3
   },
   "file_extension": ".py",
   "mimetype": "text/x-python",
   "name": "python",
   "nbconvert_exporter": "python",
   "pygments_lexer": "ipython3",
   "version": "3.7.6"
  }
 },
 "nbformat": 4,
 "nbformat_minor": 4
}
