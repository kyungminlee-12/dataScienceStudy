{
 "cells": [
  {
   "cell_type": "code",
   "execution_count": 2,
   "metadata": {},
   "outputs": [],
   "source": [
    "import numpy as np"
   ]
  },
  {
   "cell_type": "markdown",
   "metadata": {},
   "source": [
    "# 대칭행렬을 랜크-1 행렬의 합으로 분해\n",
    "### data science school pg 201~204\n",
    "~~~\n",
    "N차원 대칭행렬 A는 다음처럼 N개의 랭크-1 행렬을 아래 식의 합으로 표시 가능\n",
    "~~~\n",
    "$A_i$ = np.dot($V_i$, $V_i$.T)"
   ]
  },
  {
   "cell_type": "code",
   "execution_count": 5,
   "metadata": {},
   "outputs": [
    {
     "name": "stdout",
     "output_type": "stream",
     "text": [
      "고윳값 w: [84.49913563  7.33962395  0.16124042]\n"
     ]
    }
   ],
   "source": [
    "A=np.array([[60, 30, 20], [30, 20, 15], [20, 15, 12]])\n",
    "\n",
    "w, V=np.linalg.eig(A)   #고윳값과 고유벡터를 순서대로 return (고윳값:, 고유벡터: )\n",
    "w1, w2, w3=w            #고윳값\n",
    "v1=V[:, 0:1]\n",
    "v2=V[:, 1:2]\n",
    "v3=V[:, 2:3]\n",
    "\n",
    "A1=v1@v1.T\n",
    "A2=v2@v2.T\n",
    "A3=v3@v3.T\n",
    "\n",
    "print(\"고윳값 w:\", w)"
   ]
  },
  {
   "cell_type": "code",
   "execution_count": 8,
   "metadata": {},
   "outputs": [
    {
     "name": "stdout",
     "output_type": "stream",
     "text": [
      "고윳값_1과 v1 @ v1.T를 내적한 결과:\n",
      " [[57.79768857 32.13739648 22.59357583]\n",
      " [32.13739648 17.8694387  12.56276371]\n",
      " [22.59357583 12.56276371  8.83200836]]\n"
     ]
    }
   ],
   "source": [
    "print('고윳값_1과 v1 @ v1.T를 내적한 결과:\\n',w1*A1)"
   ]
  },
  {
   "cell_type": "code",
   "execution_count": 9,
   "metadata": {},
   "outputs": [
    {
     "name": "stdout",
     "output_type": "stream",
     "text": [
      "고윳값_1과 v2 @ v2.T를 내적한 결과:\n",
      " [[ 2.19968372 -2.12270483 -2.60775134]\n",
      " [-2.12270483  2.04841985  2.51649195]\n",
      " [-2.60775134  2.51649195  3.09152039]]\n"
     ]
    }
   ],
   "source": [
    "print(\"고윳값_2과 v2 @ v2.T를 내적한 결과:\\n\", w2*A2)"
   ]
  },
  {
   "cell_type": "code",
   "execution_count": 10,
   "metadata": {},
   "outputs": [
    {
     "name": "stdout",
     "output_type": "stream",
     "text": [
      "고윳값_3과 v3 @ v3.T를 내적한 결과:\n",
      " [[ 0.00262772 -0.01469165  0.01417551]\n",
      " [-0.01469165  0.08214145 -0.07925566]\n",
      " [ 0.01417551 -0.07925566  0.07647125]]\n"
     ]
    }
   ],
   "source": [
    "print(\"고윳값_3과 v3 @ v3.T를 내적한 결과:\\n\", w3*A3)"
   ]
  },
  {
   "cell_type": "code",
   "execution_count": 11,
   "metadata": {},
   "outputs": [
    {
     "name": "stdout",
     "output_type": "stream",
     "text": [
      "A의 값을 구하기:\n"
     ]
    },
    {
     "data": {
      "text/plain": [
       "array([[60., 30., 20.],\n",
       "       [30., 20., 15.],\n",
       "       [20., 15., 12.]])"
      ]
     },
     "execution_count": 11,
     "metadata": {},
     "output_type": "execute_result"
    }
   ],
   "source": [
    "print('A의 값을 구하기:')\n",
    "w1*A1+w2*A2+w3*A3"
   ]
  },
  {
   "cell_type": "markdown",
   "metadata": {},
   "source": [
    "### 만약 0인 고윳값이 없다면 역행렬도 다음처럼 N개의 랭크-1 행렬의 합으로 표시할 수 있음\n",
    "$A_i$ = np.dot($V_i$, $V_i$.T)"
   ]
  },
  {
   "cell_type": "code",
   "execution_count": 12,
   "metadata": {},
   "outputs": [
    {
     "data": {
      "text/plain": [
       "array([[ 0.15, -0.6 ,  0.5 ],\n",
       "       [-0.6 ,  3.2 , -3.  ],\n",
       "       [ 0.5 , -3.  ,  3.  ]])"
      ]
     },
     "execution_count": 12,
     "metadata": {},
     "output_type": "execute_result"
    }
   ],
   "source": [
    "np.linalg.inv(A)       #np.linalg.inv는 역행렬을 계산하는 함수이다"
   ]
  },
  {
   "cell_type": "code",
   "execution_count": 13,
   "metadata": {},
   "outputs": [
    {
     "data": {
      "text/plain": [
       "array([[ 0.15, -0.6 ,  0.5 ],\n",
       "       [-0.6 ,  3.2 , -3.  ],\n",
       "       [ 0.5 , -3.  ,  3.  ]])"
      ]
     },
     "execution_count": 13,
     "metadata": {},
     "output_type": "execute_result"
    }
   ],
   "source": [
    "1/w1*A1+1/w2*A2+1/w3*A3    #역수들을 이용해서 계산하면 역행렬을 계산한 것과 같은 결과"
   ]
  },
  {
   "cell_type": "code",
   "execution_count": null,
   "metadata": {},
   "outputs": [],
   "source": []
  }
 ],
 "metadata": {
  "kernelspec": {
   "display_name": "Python 3",
   "language": "python",
   "name": "python3"
  },
  "language_info": {
   "codemirror_mode": {
    "name": "ipython",
    "version": 3
   },
   "file_extension": ".py",
   "mimetype": "text/x-python",
   "name": "python",
   "nbconvert_exporter": "python",
   "pygments_lexer": "ipython3",
   "version": "3.7.6"
  }
 },
 "nbformat": 4,
 "nbformat_minor": 4
}
