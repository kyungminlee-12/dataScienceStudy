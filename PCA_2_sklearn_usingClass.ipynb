{
 "cells": [
  {
   "cell_type": "markdown",
   "metadata": {},
   "source": [
    "# 사이킷런의 PCA 기능\n",
    "### data science study pg 234~238\n",
    "~~~ \n",
    "사이킷런의 decomposition 서브패키지는 PCA 분석을 위한 PCA class를 제공한다.\n",
    "~~~\n",
    "* 입력인수\n",
    "    - n_components: 정수\n",
    "* 매서드:\n",
    "    - fit_transform(): 특징행렬을 낮은 차원의 근사행렬로 변환\n",
    "    - inverse_transform(): 변환된 근사행렬을 원래의 차원으로 복귀\n",
    "* 속성:\n",
    "    - mean_: 평균벡터\n",
    "    - components_: 주성분 벡터"
   ]
  },
  {
   "cell_type": "markdown",
   "metadata": {},
   "source": [
    "### 붓꽃 데이터를 1차원으로 차원축소(근사)하는 예제 코드\n",
    "~~~\n",
    "fit_transform() 메서드로 구한 X_low는 1차원 근사 데이터의 집합이다. 이 값을 다시 inverse_transform() 메서드에 넣어서 구한 X2는 다시 2차원으로 복귀한 근사 데이터의 집합이다.\n",
    "~~~"
   ]
  },
  {
   "cell_type": "code",
   "execution_count": 2,
   "metadata": {},
   "outputs": [],
   "source": [
    "from sklearn.decomposition import PCA"
   ]
  },
  {
   "cell_type": "code",
   "execution_count": 11,
   "metadata": {},
   "outputs": [],
   "source": [
    "import matplotlib.pyplot as plt\n",
    "import seaborn as sns\n",
    "import pandas as pd\n",
    "import numpy as np"
   ]
  },
  {
   "cell_type": "code",
   "execution_count": 6,
   "metadata": {},
   "outputs": [],
   "source": [
    "from sklearn.datasets import load_iris\n",
    "iris=load_iris()\n",
    "\n",
    "N=10                       #앞의 10송이만 선택\n",
    "X=iris.data[:N, :2]        #10개의 꽃의 특징 2가지 갖고옴"
   ]
  },
  {
   "cell_type": "code",
   "execution_count": 7,
   "metadata": {},
   "outputs": [
    {
     "data": {
      "text/plain": [
       "Text(0.5, 1.0, 'reduction into 1 dimension (Iris data)')"
      ]
     },
     "execution_count": 7,
     "metadata": {},
     "output_type": "execute_result"
    },
    {
     "data": {
      "image/png": "[encoded data removed]",
      "text/plain": [
       "<Figure size 504x504 with 1 Axes>"
      ]
     },
     "metadata": {
      "needs_background": "light"
     },
     "output_type": "display_data"
    }
   ],
   "source": [
    "pca1=PCA(n_components=1)            #n_components가 아마 차원을 지정하는 것 같음 (값이 1이니까 1차원)\n",
    "X_low=pca1.fit_transform(X)         #특징행렬을 낮은 차원의 근사행렬으로 변환\n",
    "X2=pca1.inverse_transform(X_low)    #변환된 근사행렬을 원래 행렬으로 복귀 \n",
    "\n",
    "plt.figure(figsize=(7, 7))\n",
    "ax=sns.scatterplot(0, 1, data=pd.DataFrame(X), s=100, color='.2', marker='s')\n",
    "#scatterplot(산점도): 직교 좌표계를 이용해 두 개 변수 간의 관계를 나타낸다\n",
    "\n",
    "#서로 다른 차원을 검은색 점선으로 연결\n",
    "for i in range(N):\n",
    "    d=0.03 if X[i, 1] else -0.04\n",
    "    ax.text(X[i, 0]-0.065, X[i, 1]+d, 'sample {}'.format(i+1))\n",
    "    plt.plot([X[i, 0], X2[i, 0]], [X[i, 1], X2[i, 1]], 'k--')          #검은색 점선을 1차원 값에서 원래 차원의 위치로 귿기\n",
    "\n",
    "plt.plot(X2[:, 0], X2[:, 1], 'o-', markersize=10)                      #'o-'는 circle (파란색 원들의 위치)\n",
    "plt.plot(X[:, 0].mean(), X[:, 1].mean(), markersize=10, marker='D')    # marker='D' 는 다이아몬드 모양(중앙에 하나있는 주황색 사각형)\n",
    "#X[:, 0].mean() 는 모든 꽃들의 꽃받침 길이의 평균인 것 같음\n",
    "#X[:, 1].mean() 는 모든 꽃들의 꽃받침 폭의 평균인 것 같음\n",
    "\n",
    "plt.axvline(X[:, 0].mean(), c='r')       #빨간색 세로 직선: c='r'는 색을 빨간색으로 지정\n",
    "plt.axhline(X[:, 1].mean(), c='r')       #빨간색 가로 직선\n",
    "\n",
    "plt.grid(False)                      #그래프 안의 모눈종이(?) 같은 선 없음\n",
    "plt.xlabel('Calyx length')           # '꽃받침 길이'\n",
    "plt.ylabel('Calyx width')            # '꽃받침 폭'\n",
    "plt.title('reduction into 1 dimension (Iris data)')"
   ]
  },
  {
   "cell_type": "code",
   "execution_count": 8,
   "metadata": {},
   "outputs": [
    {
     "data": {
      "text/plain": [
       "array([4.86, 3.31])"
      ]
     },
     "execution_count": 8,
     "metadata": {},
     "output_type": "execute_result"
    }
   ],
   "source": [
    "pca1.mean_                #데이터의 평균값"
   ]
  },
  {
   "cell_type": "code",
   "execution_count": 9,
   "metadata": {},
   "outputs": [
    {
     "data": {
      "text/plain": [
       "array([[0.68305029, 0.73037134]])"
      ]
     },
     "execution_count": 9,
     "metadata": {},
     "output_type": "execute_result"
    }
   ],
   "source": [
    "pca1.components_         #주성분 벡터 (가장 근사 데이터를 만드는 단위기저벡터) 구하기"
   ]
  },
  {
   "cell_type": "code",
   "execution_count": 12,
   "metadata": {},
   "outputs": [
    {
     "data": {
      "text/plain": [
       "array([[-0.68305029, -0.73037134],\n",
       "       [-0.73037134,  0.68305029]])"
      ]
     },
     "execution_count": 12,
     "metadata": {},
     "output_type": "execute_result"
    }
   ],
   "source": [
    "X0=X-X.mean(axis=0)\n",
    "U, S, VT=np.linalg.svd(X0)     #특잇값 분해(vector13): 왼쪽 특이벡터, 특잇값, 오른쪽 특이벡터\n",
    "VT                             #오른쪽 특이벡터"
   ]
  },
  {
   "cell_type": "code",
   "execution_count": 13,
   "metadata": {},
   "outputs": [
    {
     "data": {
      "text/plain": [
       "array([-0.68305029, -0.73037134])"
      ]
     },
     "execution_count": 13,
     "metadata": {},
     "output_type": "execute_result"
    }
   ],
   "source": [
    "VT[:, 0]"
   ]
  },
  {
   "cell_type": "markdown",
   "metadata": {},
   "source": [
    "### 고윳값분해를 할 때 넘파이가 고윳값의 순서에 따른 정렬을 해주지 않으므로 사용자가 정렬해야 한다. \n",
    "**아직 이해 못함**"
   ]
  },
  {
   "cell_type": "code",
   "execution_count": 14,
   "metadata": {},
   "outputs": [],
   "source": [
    "XCOV=X0.T@X0\n",
    "W, V=np.linalg.eig(XCOV)"
   ]
  },
  {
   "cell_type": "code",
   "execution_count": 15,
   "metadata": {},
   "outputs": [
    {
     "data": {
      "text/plain": [
       "array([0.17107711, 1.44192289])"
      ]
     },
     "execution_count": 15,
     "metadata": {},
     "output_type": "execute_result"
    }
   ],
   "source": [
    "W"
   ]
  },
  {
   "cell_type": "code",
   "execution_count": 16,
   "metadata": {},
   "outputs": [
    {
     "data": {
      "text/plain": [
       "array([[-0.73037134, -0.68305029],\n",
       "       [ 0.68305029, -0.73037134]])"
      ]
     },
     "execution_count": 16,
     "metadata": {},
     "output_type": "execute_result"
    }
   ],
   "source": [
    "V"
   ]
  },
  {
   "cell_type": "code",
   "execution_count": 17,
   "metadata": {},
   "outputs": [
    {
     "data": {
      "text/plain": [
       "array([-0.68305029, -0.73037134])"
      ]
     },
     "execution_count": 17,
     "metadata": {},
     "output_type": "execute_result"
    }
   ],
   "source": [
    "V[:, np.argmax(W)]"
   ]
  },
  {
   "cell_type": "markdown",
   "metadata": {},
   "source": [
    "**8 번째 꽃의 꽃받침 길이와 꽃받침 폭**"
   ]
  },
  {
   "cell_type": "code",
   "execution_count": 18,
   "metadata": {},
   "outputs": [
    {
     "data": {
      "text/plain": [
       "array([5. , 3.4])"
      ]
     },
     "execution_count": 18,
     "metadata": {},
     "output_type": "execute_result"
    }
   ],
   "source": [
    "X[7, :]"
   ]
  },
  {
   "cell_type": "markdown",
   "metadata": {},
   "source": [
    "**PCA로 구한 주성분의 값 (=꽃의 크기)**"
   ]
  },
  {
   "cell_type": "code",
   "execution_count": 19,
   "metadata": {},
   "outputs": [
    {
     "data": {
      "text/plain": [
       "array([0.16136046])"
      ]
     },
     "execution_count": 19,
     "metadata": {},
     "output_type": "execute_result"
    }
   ],
   "source": [
    "X_low[7]"
   ]
  },
  {
   "cell_type": "code",
   "execution_count": 20,
   "metadata": {},
   "outputs": [
    {
     "data": {
      "text/plain": [
       "array([0.16136046])"
      ]
     },
     "execution_count": 20,
     "metadata": {},
     "output_type": "execute_result"
    }
   ],
   "source": [
    "pca1.components_@(X[7, :]-pca1.mean_)     #위와 같은 값을 구하는 다른 방법"
   ]
  },
  {
   "cell_type": "markdown",
   "metadata": {},
   "source": [
    "**이 주성분 값을 이용하여 다시 2차원 값으로 나타낸 근사값**"
   ]
  },
  {
   "cell_type": "code",
   "execution_count": 21,
   "metadata": {},
   "outputs": [
    {
     "data": {
      "text/plain": [
       "array([4.97021731, 3.42785306])"
      ]
     },
     "execution_count": 21,
     "metadata": {},
     "output_type": "execute_result"
    }
   ],
   "source": [
    "X2[7, :]"
   ]
  },
  {
   "cell_type": "markdown",
   "metadata": {},
   "source": [
    "~~~\n",
    "아래 링크의 내용도 공부 시 참조하기\n",
    "~~~\n",
    "https://excelsior-cjh.tistory.com/167"
   ]
  },
  {
   "cell_type": "markdown",
   "metadata": {},
   "source": [
    "### pca1=PCA(n_components=1) 에서 n_components 값만 바꾼 결과"
   ]
  },
  {
   "cell_type": "code",
   "execution_count": 22,
   "metadata": {},
   "outputs": [
    {
     "data": {
      "text/plain": [
       "Text(0.5, 1.0, 'reduction into 1 dimension (Iris data)')"
      ]
     },
     "execution_count": 22,
     "metadata": {},
     "output_type": "execute_result"
    },
    {
     "data": {
      "image/png": "[encoded data removed]",
      "text/plain": [
       "<Figure size 504x504 with 1 Axes>"
      ]
     },
     "metadata": {
      "needs_background": "light"
     },
     "output_type": "display_data"
    }
   ],
   "source": [
    "pca1=PCA(n_components=2)\n",
    "X_low=pca1.fit_transform(X)\n",
    "X2=pca1.inverse_transform(X_low)\n",
    "\n",
    "plt.figure(figsize=(7, 7))\n",
    "ax=sns.scatterplot(0, 1, data=pd.DataFrame(X), s=100, color='.2', marker='s')\n",
    "\n",
    "for i in range(N):\n",
    "    d=0.03 if X[i, 1] else -0.04\n",
    "    ax.text(X[i, 0]-0.065, X[i, 1]+d, 'sample {}'.format(i+1))\n",
    "    plt.plot([X[i, 0], X2[i, 0]], [X[i, 1], X2[i, 1]], 'k--')\n",
    "\n",
    "plt.plot(X2[:, 0], X2[:, 1], 'o-', markersize=10)\n",
    "plt.plot(X[:, 0].mean(), X[:, 1].mean(), markersize=10, marker='D')\n",
    "\n",
    "plt.axvline(X[:, 0].mean(), c='r')\n",
    "plt.axhline(X[:, 1].mean(), c='r')\n",
    "\n",
    "plt.grid(False)\n",
    "plt.xlabel('Calyx length')           # '꽃받침 길이'\n",
    "plt.ylabel('Calyx width')            # '꽃받침 폭'\n",
    "plt.title('reduction into 1 dimension (Iris data)')"
   ]
  },
  {
   "cell_type": "markdown",
   "metadata": {},
   "source": [
    "### 3.5.1 연습문제)\n",
    "~~~\n",
    "붓꽃 데이터 중 앞에서 데이터 50개에 대해 다음 문제를 풀어라\n",
    "~~~"
   ]
  },
  {
   "cell_type": "markdown",
   "metadata": {},
   "source": [
    "#### 1) 꽃잎의 길이와 꽃잎의 폭을 이용하여 1차원 PCA를 수행하라. 꽃의 크기는 꽃잎 길이와 꽃잎 폭의 어떤 선형조합으로 나타나는가?\n",
    "~~~\n",
    "답: 꽃의 크기=(0.96 꽃잎의 길이)+(0.28 꽃잎의 폭)\n",
    "~~~"
   ]
  },
  {
   "cell_type": "code",
   "execution_count": 33,
   "metadata": {},
   "outputs": [
    {
     "data": {
      "text/plain": [
       "array([[0.96004653, 0.27984043]])"
      ]
     },
     "execution_count": 33,
     "metadata": {},
     "output_type": "execute_result"
    }
   ],
   "source": [
    "from sklearn.datasets import load_iris\n",
    "from sklearn.decomposition import PCA\n",
    "\n",
    "X=load_iris().data\n",
    "pca=PCA(n_components=1)\n",
    "pca.fit_transform(X[:50, 2:])\n",
    "pca.components_                  #주성분벡터"
   ]
  },
  {
   "cell_type": "markdown",
   "metadata": {},
   "source": [
    "#### 2) 꽃받침 길이와 폭, 꽃잎 길이와 폭, 이 4가지 변수를 모두 사용하여 1차원 PCA를 수행하라. 꽃의 크기는 관측 데이터의 어떤 선형조합으로 나타나는가?\n",
    "~~~\n",
    "답: 꽃의 크기=(0.67 꽃ㅊ받침의 길이)+(0.73 꽃받침의 폭)+(0.10 꽃잎의 길이)+(0.06 꽃잎의 폭)\n",
    "~~~"
   ]
  },
  {
   "cell_type": "code",
   "execution_count": 34,
   "metadata": {},
   "outputs": [
    {
     "data": {
      "text/plain": [
       "array([[0.6690784 , 0.73414783, 0.0965439 , 0.06356359]])"
      ]
     },
     "execution_count": 34,
     "metadata": {},
     "output_type": "execute_result"
    }
   ],
   "source": [
    "pca=PCA(n_components=1)\n",
    "pca.fit_transform(X[:50, :])\n",
    "pca.components_                   #주성분벡터"
   ]
  },
  {
   "cell_type": "code",
   "execution_count": null,
   "metadata": {},
   "outputs": [],
   "source": []
  }
 ],
 "metadata": {
  "kernelspec": {
   "display_name": "Python 3",
   "language": "python",
   "name": "python3"
  },
  "language_info": {
   "codemirror_mode": {
    "name": "ipython",
    "version": 3
   },
   "file_extension": ".py",
   "mimetype": "text/x-python",
   "name": "python",
   "nbconvert_exporter": "python",
   "pygments_lexer": "ipython3",
   "version": "3.7.6"
  }
 },
 "nbformat": 4,
 "nbformat_minor": 4
}
