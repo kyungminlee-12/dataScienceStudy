{
 "cells": [
  {
   "cell_type": "markdown",
   "metadata": {},
   "source": [
    "# 파이썬을 이용한 특잇값 분해\n",
    "### data science study pg 213~215\n",
    "~~~\n",
    "정방행령이 아닌 경우 고유분해(고윳값과 고유벡터 찾기)가 불가능하므로 특잇값분해를 한다.\n",
    "~~~"
   ]
  },
  {
   "cell_type": "code",
   "execution_count": 2,
   "metadata": {},
   "outputs": [],
   "source": [
    "from numpy.linalg import svd\n",
    "import numpy as np"
   ]
  },
  {
   "cell_type": "code",
   "execution_count": 3,
   "metadata": {},
   "outputs": [],
   "source": [
    "A=np.array([[3, -1], [1, 3], [1, 1]])\n",
    "U, S, VT=svd(A)"
   ]
  },
  {
   "cell_type": "code",
   "execution_count": 4,
   "metadata": {},
   "outputs": [
    {
     "data": {
      "text/plain": [
       "array([[-4.08248290e-01,  8.94427191e-01, -1.82574186e-01],\n",
       "       [-8.16496581e-01, -4.47213595e-01, -3.65148372e-01],\n",
       "       [-4.08248290e-01, -2.65251338e-16,  9.12870929e-01]])"
      ]
     },
     "execution_count": 4,
     "metadata": {},
     "output_type": "execute_result"
    }
   ],
   "source": [
    "U                        #왼쪽 특이벡터: 정방행렬(행과 열의 수가 동일), 모든 열벡터가 단위벡터, 서로 직교"
   ]
  },
  {
   "cell_type": "code",
   "execution_count": 5,
   "metadata": {},
   "outputs": [
    {
     "data": {
      "text/plain": [
       "array([3.46410162, 3.16227766])"
      ]
     },
     "execution_count": 5,
     "metadata": {},
     "output_type": "execute_result"
    }
   ],
   "source": [
    "S                                "
   ]
  },
  {
   "cell_type": "code",
   "execution_count": 6,
   "metadata": {},
   "outputs": [
    {
     "data": {
      "text/plain": [
       "array([[3.46410162, 0.        ],\n",
       "       [0.        , 3.16227766],\n",
       "       [0.        , 0.        ]])"
      ]
     },
     "execution_count": 6,
     "metadata": {},
     "output_type": "execute_result"
    }
   ],
   "source": [
    "np.diag(S, 1)[:, 1:]      # 특잇값: 대각행렬, 큰 수부터 순서대로 배열"
   ]
  },
  {
   "cell_type": "code",
   "execution_count": 7,
   "metadata": {},
   "outputs": [
    {
     "data": {
      "text/plain": [
       "array([[-0.70710678, -0.70710678],\n",
       "       [ 0.70710678, -0.70710678]])"
      ]
     },
     "execution_count": 7,
     "metadata": {},
     "output_type": "execute_result"
    }
   ],
   "source": [
    "VT                        #오른쪽 특이벡터: 정방행렬(행과 열의 수가 동일), 모든 열벡타기 단위벡터, 서로 직교"
   ]
  },
  {
   "cell_type": "code",
   "execution_count": 8,
   "metadata": {},
   "outputs": [
    {
     "data": {
      "text/plain": [
       "array([[ 3., -1.],\n",
       "       [ 1.,  3.],\n",
       "       [ 1.,  1.]])"
      ]
     },
     "execution_count": 8,
     "metadata": {},
     "output_type": "execute_result"
    }
   ],
   "source": [
    "U@np.diag(S, 1)[:, 1:]@VT"
   ]
  },
  {
   "cell_type": "markdown",
   "metadata": {},
   "source": [
    "### 축소형을 구하기 위해서 인수 full_matrices=False로 지정"
   ]
  },
  {
   "cell_type": "code",
   "execution_count": 9,
   "metadata": {},
   "outputs": [],
   "source": [
    "U2, S2, VT2=svd(A, full_matrices=False)"
   ]
  },
  {
   "cell_type": "code",
   "execution_count": 10,
   "metadata": {},
   "outputs": [
    {
     "data": {
      "text/plain": [
       "array([[-4.08248290e-01,  8.94427191e-01],\n",
       "       [-8.16496581e-01, -4.47213595e-01],\n",
       "       [-4.08248290e-01, -2.65251338e-16]])"
      ]
     },
     "execution_count": 10,
     "metadata": {},
     "output_type": "execute_result"
    }
   ],
   "source": [
    "U2                   #왼쪽 특이벡터: "
   ]
  },
  {
   "cell_type": "code",
   "execution_count": 11,
   "metadata": {},
   "outputs": [
    {
     "data": {
      "text/plain": [
       "array([3.46410162, 3.16227766])"
      ]
     },
     "execution_count": 11,
     "metadata": {},
     "output_type": "execute_result"
    }
   ],
   "source": [
    "S2                   #특잇값: 대각행렬(대각형으로 수 있고 나머지는 0)이고 큰수부터 작은수"
   ]
  },
  {
   "cell_type": "code",
   "execution_count": 12,
   "metadata": {},
   "outputs": [
    {
     "data": {
      "text/plain": [
       "array([[-0.70710678, -0.70710678],\n",
       "       [ 0.70710678, -0.70710678]])"
      ]
     },
     "execution_count": 12,
     "metadata": {},
     "output_type": "execute_result"
    }
   ],
   "source": [
    "VT2                 #오른쪽 특이벡터: 정방행렬(열=행 수), 단위벡터, 서로 직교"
   ]
  },
  {
   "cell_type": "code",
   "execution_count": 13,
   "metadata": {},
   "outputs": [
    {
     "data": {
      "text/plain": [
       "array([[ 3., -1.],\n",
       "       [ 1.,  3.],\n",
       "       [ 1.,  1.]])"
      ]
     },
     "execution_count": 13,
     "metadata": {},
     "output_type": "execute_result"
    }
   ],
   "source": [
    "U2@np.diag(S2)@VT2    #np.diag는 대각행렬 생성"
   ]
  },
  {
   "cell_type": "markdown",
   "metadata": {},
   "source": [
    "### 3.4.1 연습문제) \n",
    "~~~ \n",
    "넘파이를 사용하여 다음 행렬을 특잇값분해를 한다.(축소형이 아닌 방법과 축소형 방법을 각각 사용한다.) 또한 다시 곱해서 원래의 행렬이 나오는 것을 보여라\n",
    "\n",
    "b=[[3, 2, 2], [2, 3, -2]], C=([[2, 4], [1, 3], [0, 0], [0, 0]])\n",
    "~~~"
   ]
  },
  {
   "cell_type": "code",
   "execution_count": 14,
   "metadata": {},
   "outputs": [],
   "source": [
    "b=np.array([[3, 2, 2], [2, 3, -2]])\n",
    "c=np.array([[2, 4], [1, 3], [0, 0], [0, 0]])"
   ]
  },
  {
   "cell_type": "code",
   "execution_count": 16,
   "metadata": {},
   "outputs": [
    {
     "name": "stdout",
     "output_type": "stream",
     "text": [
      "\n",
      "b\n",
      "[[ 3  2  2]\n",
      " [ 2  3 -2]]\n",
      "\n",
      "U\n",
      "[[-0.70710678 -0.70710678]\n",
      " [-0.70710678  0.70710678]]\n",
      "\n",
      "S\n",
      "[[5. 0. 0.]\n",
      " [0. 3. 0.]]\n",
      "\n",
      "V\n",
      "[[-7.07106781e-01 -2.35702260e-01 -6.66666667e-01]\n",
      " [-7.07106781e-01  2.35702260e-01  6.66666667e-01]\n",
      " [ 1.34375929e-16 -9.42809042e-01  3.33333333e-01]]\n",
      "\n",
      "U S VT\n",
      "[[ 3.  2.  2.]\n",
      " [ 2.  3. -2.]]\n"
     ]
    }
   ],
   "source": [
    "#행렬의 SVD\n",
    "U, S, VT=svd(b)\n",
    "\n",
    "print('\\nb'); print(b)\n",
    "print('\\nU'); print(U)                         #특이벡터: 정방행렬, 단위벡터, 직교\n",
    "print('\\nS'); print(np.diag(S, -1)[1:, :])     #특잇값: 대각행렬, 큰 수부터 작은수\n",
    "print('\\nV'); print(VT.T)                      #특이벡터: 정방행렬, 단위벡터, 직교\n",
    "print('\\nU S VT'); print(U@np.diag(S, -1)[1:, :]@VT)"
   ]
  },
  {
   "cell_type": "code",
   "execution_count": 17,
   "metadata": {},
   "outputs": [
    {
     "name": "stdout",
     "output_type": "stream",
     "text": [
      "\n",
      "b\n",
      "[[ 3  2  2]\n",
      " [ 2  3 -2]]\n",
      "\n",
      "U\n",
      "[[-0.70710678 -0.70710678]\n",
      " [-0.70710678  0.70710678]]\n",
      "\n",
      "S\n",
      "[[5. 0.]\n",
      " [0. 3.]]\n",
      "\n",
      "V\n",
      "[[-7.07106781e-01 -2.35702260e-01]\n",
      " [-7.07106781e-01  2.35702260e-01]\n",
      " [ 1.34375929e-16 -9.42809042e-01]]\n",
      "\n",
      "U S VT\n",
      "[[ 3.  2.  2.]\n",
      " [ 2.  3. -2.]]\n"
     ]
    }
   ],
   "source": [
    "#B 행렬의 축소형 SVD\n",
    "U, S, VT=svd(b, full_matrices=False)\n",
    "\n",
    "print('\\nb'); print(b)\n",
    "print('\\nU'); print(U)             #특이벡터: 정방행렬(행 수=열 수), 직교, 단위벡터\n",
    "print('\\nS'); print(np.diag(S))    #특잇값: 대각행렬 만드는 함수(np.diag) 사용\n",
    "print('\\nV'); print(VT.T)          #특이벡터: 정방행렬(행 수=열 수), 직교, 단위벡터\n",
    "print('\\nU S VT'); print(U@np.diag(S)@VT)"
   ]
  },
  {
   "cell_type": "code",
   "execution_count": 18,
   "metadata": {},
   "outputs": [
    {
     "name": "stdout",
     "output_type": "stream",
     "text": [
      "\n",
      "c\n",
      "[[2 4]\n",
      " [1 3]\n",
      " [0 0]\n",
      " [0 0]]\n",
      "\n",
      "U\n",
      "[[-0.81741556 -0.57604844  0.          0.        ]\n",
      " [-0.57604844  0.81741556  0.          0.        ]\n",
      " [ 0.          0.          1.          0.        ]\n",
      " [ 0.          0.          0.          1.        ]]\n",
      "\n",
      "S\n",
      "[[5.4649857  0.        ]\n",
      " [0.         0.36596619]\n",
      " [0.         0.        ]\n",
      " [0.         0.        ]]\n",
      "\n",
      "V\n",
      "[[-0.40455358 -0.9145143 ]\n",
      " [-0.9145143   0.40455358]]\n",
      "\n",
      "U S VT\n",
      "[[2. 4.]\n",
      " [1. 3.]\n",
      " [0. 0.]\n",
      " [0. 0.]]\n"
     ]
    }
   ],
   "source": [
    "#C 행렬의 SVD\n",
    "U, S, VT=svd(c)\n",
    "\n",
    "print('\\nc'); print(c)\n",
    "print('\\nU'); print(U)\n",
    "print('\\nS'); print(np.diag(S, 2)[:, 2:])\n",
    "print('\\nV'); print(VT.T)\n",
    "print('\\nU S VT'); print(U@np.diag(S, 2)[:, 2:]@VT)"
   ]
  },
  {
   "cell_type": "code",
   "execution_count": 19,
   "metadata": {},
   "outputs": [
    {
     "name": "stdout",
     "output_type": "stream",
     "text": [
      "\n",
      "c\n",
      "[[2 4]\n",
      " [1 3]\n",
      " [0 0]\n",
      " [0 0]]\n",
      "\n",
      "U\n",
      "[[-0.81741556 -0.57604844]\n",
      " [-0.57604844  0.81741556]\n",
      " [ 0.          0.        ]\n",
      " [ 0.          0.        ]]\n",
      "\n",
      "S\n",
      "[[5.4649857  0.        ]\n",
      " [0.         0.36596619]]\n",
      "\n",
      "V\n",
      "[[-0.40455358 -0.9145143 ]\n",
      " [-0.9145143   0.40455358]]\n",
      "\n",
      "U S VT\n",
      "[[2. 4.]\n",
      " [1. 3.]\n",
      " [0. 0.]\n",
      " [0. 0.]]\n"
     ]
    }
   ],
   "source": [
    "#C 행렬의 축소형 SVD\n",
    "U, S, VT=svd(c, full_matrices=False)\n",
    "\n",
    "print('\\nc'); print(c)\n",
    "print('\\nU'); print(U)\n",
    "print('\\nS'); print(np.diag(S))\n",
    "print('\\nV'); print(VT.T)\n",
    "print('\\nU S VT'); print(U@np.diag(S)@VT)"
   ]
  },
  {
   "cell_type": "code",
   "execution_count": null,
   "metadata": {},
   "outputs": [],
   "source": []
  }
 ],
 "metadata": {
  "kernelspec": {
   "display_name": "Python 3",
   "language": "python",
   "name": "python3"
  },
  "language_info": {
   "codemirror_mode": {
    "name": "ipython",
    "version": 3
   },
   "file_extension": ".py",
   "mimetype": "text/x-python",
   "name": "python",
   "nbconvert_exporter": "python",
   "pygments_lexer": "ipython3",
   "version": "3.7.6"
  }
 },
 "nbformat": 4,
 "nbformat_minor": 4
}
