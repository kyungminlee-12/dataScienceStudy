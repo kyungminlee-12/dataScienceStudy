{
 "cells": [
  {
   "cell_type": "markdown",
   "metadata": {},
   "source": [
    "# 확률 질량함수\n",
    "### data science school pg 403\n",
    "~~~\n",
    "확률 질량함수는 확률과는 다른 개념으로 단순사건에 대한 확률 만 정의하는 함수이다.\n",
    "\n",
    "단순사건: 표본이 하나인 사건\n",
    "모든 단순사건의 확률값을 알면 코모고로프의 세 번째 공리에 의해 다른 모든 사건의 확률값을 계산할 수 있다.\n",
    "~~~"
   ]
  },
  {
   "cell_type": "code",
   "execution_count": 2,
   "metadata": {},
   "outputs": [],
   "source": [
    "import numpy as np\n",
    "import matplotlib.pyplot as plt"
   ]
  },
  {
   "cell_type": "code",
   "execution_count": 3,
   "metadata": {},
   "outputs": [],
   "source": [
    "x=np.arange(1, 7)\n",
    "y=np.array([0.1, 0.1, 0.1, 0.1, 0.1, 0.5])"
   ]
  },
  {
   "cell_type": "code",
   "execution_count": 5,
   "metadata": {},
   "outputs": [
    {
     "name": "stderr",
     "output_type": "stream",
     "text": [
      "C:\\Users\\min20\\miniconda3\\lib\\site-packages\\ipykernel_launcher.py:1: UserWarning: In Matplotlib 3.3 individual lines on a stem plot will be added as a LineCollection instead of individual lines. This significantly improves the performance of a stem plot. To remove this warning and switch to the new behaviour, set the \"use_line_collection\" keyword argument to True.\n",
      "  \"\"\"Entry point for launching an IPython kernel.\n"
     ]
    },
    {
     "data": {
      "image/png": "[encoded data removed]",
      "text/plain": [
       "<Figure size 432x288 with 1 Axes>"
      ]
     },
     "metadata": {
      "needs_background": "light"
     },
     "output_type": "display_data"
    }
   ],
   "source": [
    "plt.stem(x, y)\n",
    "plt.title(\"probability mass function of dice \")\n",
    "plt.xlabel(\"dice number\")\n",
    "plt.ylabel(\"probability\")\n",
    "plt.xlim(0, 7)\n",
    "plt.ylim(-0.01, 0.6)\n",
    "plt.xticks(np.arange(6)+1)\n",
    "plt.show()"
   ]
  },
  {
   "cell_type": "markdown",
   "metadata": {},
   "source": [
    "# 표본 수가 무한한 경우\n",
    "### pg 404~405\n",
    "~~~\n",
    "표본공간에 있는 표본 수가 무한한 경우를 다루기 위해서 확률을 정의할 때 입력을 표본이 아닌 사건으로 정의\n",
    "\n",
    "표본 수가 무한하고 모든 표본에 대해 표본 하나만을 가진 사건의 확률이 동일하다면, 표본 하나에 대한 사건의 확률은 언제나 0이다\n",
    "표본공간의 표본 수가 무한하면 사건에 대해 직접 확률을 할당하는 수밖에 없다\n",
    "~~~"
   ]
  },
  {
   "cell_type": "markdown",
   "metadata": {},
   "source": [
    "### 6.4.2 연습문제)\n",
    "~~~\n",
    "위 예제의 원반을 이용하여 복권 번호를 결정하는 경우를 생각하자. 결과를 조자하려고 0~180도 사이에 화살이 2배 더 잘 박히도록 원반을 조작했다. 이 결과를 확률을 사용하여 공범에게 전달해야 한다. 가능한 모든 사건에 대해 확률을 알려주는 확률함수를 기술하는 방법을 무엇인가?\n",
    "~~~\n",
    "\n",
    "**답**\n",
    "~~~\n",
    "부분집합을 각도 구간으로 정의하면 구간의 시작각도와 졸료각도를 부분집합으로 정의 가능. 이 두 입력변수를 받아서 확률을 출력하는 함수를 구현하면 된다.\n",
    "~~~"
   ]
  },
  {
   "cell_type": "markdown",
   "metadata": {},
   "source": [
    "### 6.4.3 연습문제)\n",
    "~~~\n",
    "0~180도 사이에 화살이 2배 더 잘 박히도록 조작된 원반을 이용하여 복권 번호를 결정하는 문제에서 구간의 시작점과 끝점을 입력받아서 확룰을 출력하는 함수 P(a, b)를 구하고 이를 파이썬으로 구현하라\n",
    "~~~"
   ]
  },
  {
   "cell_type": "code",
   "execution_count": 9,
   "metadata": {},
   "outputs": [],
   "source": [
    "def P(a, b):\n",
    "    if a>b:\n",
    "        raise ValueError(\"a must be less than b or equal to b\")\n",
    "    a=np.maximum(a, 0)\n",
    "    b=np.minimum(b, 360)\n",
    "    \n",
    "    if b<180:\n",
    "        return (2/3)*((b-a)/180)\n",
    "    else:\n",
    "        if a<180:\n",
    "            return (2/3)*((180-1)/180)+(1/3)*((b-180)/180)\n",
    "        return (1/3)*((b-a)/180)"
   ]
  },
  {
   "cell_type": "code",
   "execution_count": 10,
   "metadata": {},
   "outputs": [
    {
     "data": {
      "text/plain": [
       "0.8296296296296296"
      ]
     },
     "execution_count": 10,
     "metadata": {},
     "output_type": "execute_result"
    }
   ],
   "source": [
    "P(0, 270)"
   ]
  },
  {
   "cell_type": "code",
   "execution_count": 11,
   "metadata": {},
   "outputs": [],
   "source": [
    "P=lambda a, b: (2*(b-a) if b<180 else b-2*a+180 if a<180 else b-a)/540"
   ]
  },
  {
   "cell_type": "code",
   "execution_count": 12,
   "metadata": {},
   "outputs": [
    {
     "data": {
      "text/plain": [
       "0.8333333333333334"
      ]
     },
     "execution_count": 12,
     "metadata": {},
     "output_type": "execute_result"
    }
   ],
   "source": [
    "P(0, 270)"
   ]
  },
  {
   "cell_type": "code",
   "execution_count": null,
   "metadata": {},
   "outputs": [],
   "source": []
  }
 ],
 "metadata": {
  "kernelspec": {
   "display_name": "Python 3",
   "language": "python",
   "name": "python3"
  },
  "language_info": {
   "codemirror_mode": {
    "name": "ipython",
    "version": 3
   },
   "file_extension": ".py",
   "mimetype": "text/x-python",
   "name": "python",
   "nbconvert_exporter": "python",
   "pygments_lexer": "ipython3",
   "version": "3.7.6"
  }
 },
 "nbformat": 4,
 "nbformat_minor": 4
}
