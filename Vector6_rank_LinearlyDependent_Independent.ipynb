{
 "cells": [
  {
   "cell_type": "code",
   "execution_count": 1,
   "metadata": {},
   "outputs": [],
   "source": [
    "import numpy as np"
   ]
  },
  {
   "cell_type": "markdown",
   "metadata": {},
   "source": [
    "# 선형종속과 선형 독립\n",
    "### data science school pg 164~\n",
    "* 선형종속: 선형조합이 0이되게 만들기 위한 벡터의 계수가 모두 0인 경우 제외한 계수 벡터가 존재\n",
    "* 선형독립: 벡터의 계수가 모두 0인 경우에면 선형조합이 0이 됨."
   ]
  },
  {
   "cell_type": "code",
   "execution_count": 2,
   "metadata": {},
   "outputs": [
    {
     "data": {
      "text/plain": [
       "array([0., 0.])"
      ]
     },
     "execution_count": 2,
     "metadata": {},
     "output_type": "execute_result"
    }
   ],
   "source": [
    "x1=np.array([1, 2])\n",
    "x2=np.array([3, 3])\n",
    "x3=np.array([10, 14])\n",
    "2*x1+x2-0.5*x3        #계수가 모두 0이 아니여도 선형조합이 0인 결과 나타남 (x1, x2, x3은 선형종속이다.)"
   ]
  },
  {
   "cell_type": "markdown",
   "metadata": {},
   "source": [
    "## 랭크\n",
    "### data science school pg 168~170\n",
    "* 열랭크(column rank): 열벡터 중 서로 독립인 열벡터의 최대 개수\n",
    "* 행랭크(row rank): 행벡터 중 서로 독립인 행벡터의 최대 개수\n",
    "\n",
    "**행랭크와 열랭크는 항상 같다**\n",
    "~~~\n",
    "모든 열벡터들이 선형독립일 경우 열벡터의 개수와 열랭크의 개수가 동일하다\n",
    "하지만 열벡터가 선형종속일 경우 열랭크는 열벡터의 개수보다 작다.\n",
    "\n",
    "numpy의 linalg 서브 패키지의 matrix_rank() 함수로 행렬의 랭크 계산 가능\n",
    "~~~"
   ]
  },
  {
   "cell_type": "code",
   "execution_count": 4,
   "metadata": {},
   "outputs": [
    {
     "data": {
      "text/plain": [
       "2"
      ]
     },
     "execution_count": 4,
     "metadata": {},
     "output_type": "execute_result"
    }
   ],
   "source": [
    "x_1=np.array([[1, 3], [2, 4]])\n",
    "np.linalg.matrix_rank(x_1)       #행렬의 랭크를 계산하는 함수 사용"
   ]
  },
  {
   "cell_type": "code",
   "execution_count": 5,
   "metadata": {},
   "outputs": [
    {
     "data": {
      "text/plain": [
       "2"
      ]
     },
     "execution_count": 5,
     "metadata": {},
     "output_type": "execute_result"
    }
   ],
   "source": [
    "x_2=np.array([[1, 3, 5], [2, 3, 7]])\n",
    "np.linalg.matrix_rank(x_2) "
   ]
  },
  {
   "cell_type": "markdown",
   "metadata": {},
   "source": [
    "### 연습문재 3.2.4\n",
    "\n",
    "**a의 랭크를 구하여라**\n",
    "~~~\n",
    "풀이: 첫번째와 두번째 열벡터는 서로 독립이나 세번째 벡터는 1, 2번째 벡터의 합과 같으므로 종속이다\n",
    "~~~"
   ]
  },
  {
   "cell_type": "code",
   "execution_count": 7,
   "metadata": {},
   "outputs": [
    {
     "data": {
      "text/plain": [
       "2"
      ]
     },
     "execution_count": 7,
     "metadata": {},
     "output_type": "execute_result"
    }
   ],
   "source": [
    "a=np.array([[1, 5, 6], [2, 6, 8], [3, 11, 14], [1, 4, 5]])\n",
    "np.linalg.matrix_rank(a)"
   ]
  },
  {
   "cell_type": "markdown",
   "metadata": {},
   "source": [
    "### 연습문제 3.2.5\n",
    "\n",
    "**1) 다음 벡터로 랭크-1 행렬을 만들고 넘파이로 랭크를 계산하여 실제로 1이 나오는지 확인해라**\n",
    "~~~\n",
    "x1=np.array([[1], [1]])\n",
    "~~~\n",
    "**2) 다음 두 개의 벡터로 랭크-2 행렬을 만들고 넘파이로 랭크를 계산하여 실제로 2가 나오는지 확인하라**\n",
    "~~~\n",
    "x1=np.array([[1], [1]])\n",
    "x2=np.array([[1], [-1]])\n",
    "~~~"
   ]
  },
  {
   "cell_type": "code",
   "execution_count": 8,
   "metadata": {},
   "outputs": [
    {
     "data": {
      "text/plain": [
       "array([[1, 1],\n",
       "       [1, 1]])"
      ]
     },
     "execution_count": 8,
     "metadata": {},
     "output_type": "execute_result"
    }
   ],
   "source": [
    "x1=np.array([[1], [1]])\n",
    "m1=x1@x1.T\n",
    "m1"
   ]
  },
  {
   "cell_type": "code",
   "execution_count": 9,
   "metadata": {},
   "outputs": [
    {
     "data": {
      "text/plain": [
       "1"
      ]
     },
     "execution_count": 9,
     "metadata": {},
     "output_type": "execute_result"
    }
   ],
   "source": [
    "np.linalg.matrix_rank(m1)    #랭크-1 행렬의 랭크는 1이다"
   ]
  },
  {
   "cell_type": "markdown",
   "metadata": {},
   "source": [
    "#### 랭크-2 행렬\n",
    "~~~\n",
    "x1 @ x1.T + x2 @ x2.T\n",
    "~~~"
   ]
  },
  {
   "cell_type": "code",
   "execution_count": 11,
   "metadata": {},
   "outputs": [
    {
     "name": "stdout",
     "output_type": "stream",
     "text": [
      "np.hstack([x1, x2]): [[ 1  1]\n",
      " [ 1 -1]]\n",
      "np.vstack([x1.T, x2.T]): [[ 1  1]\n",
      " [ 1 -1]]\n"
     ]
    }
   ],
   "source": [
    "x1=np.array([[1], [1]])\n",
    "x2=np.array([[1], [-1]])\n",
    "print('np.hstack([x1, x2]):', np.hstack([x1, x2]))\n",
    "print('np.vstack([x1.T, x2.T]):' , np.vstack([x1.T, x2.T]))"
   ]
  },
  {
   "cell_type": "code",
   "execution_count": 12,
   "metadata": {},
   "outputs": [
    {
     "data": {
      "text/plain": [
       "array([[2, 0],\n",
       "       [0, 2]])"
      ]
     },
     "execution_count": 12,
     "metadata": {},
     "output_type": "execute_result"
    }
   ],
   "source": [
    "m2=np.hstack([x1, x2])@np.vstack([x1.T, x2.T])\n",
    "m2"
   ]
  },
  {
   "cell_type": "code",
   "execution_count": 13,
   "metadata": {},
   "outputs": [
    {
     "data": {
      "text/plain": [
       "2"
      ]
     },
     "execution_count": 13,
     "metadata": {},
     "output_type": "execute_result"
    }
   ],
   "source": [
    "np.linalg.matrix_rank(m2)   #랭크-2의 행렬의 랭크는 2이다"
   ]
  },
  {
   "cell_type": "code",
   "execution_count": null,
   "metadata": {},
   "outputs": [],
   "source": []
  }
 ],
 "metadata": {
  "kernelspec": {
   "display_name": "Python 3",
   "language": "python",
   "name": "python3"
  },
  "language_info": {
   "codemirror_mode": {
    "name": "ipython",
    "version": 3
   },
   "file_extension": ".py",
   "mimetype": "text/x-python",
   "name": "python",
   "nbconvert_exporter": "python",
   "pygments_lexer": "ipython3",
   "version": "3.7.6"
  }
 },
 "nbformat": 4,
 "nbformat_minor": 4
}
