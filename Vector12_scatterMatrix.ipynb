{
 "cells": [
  {
   "cell_type": "markdown",
   "metadata": {},
   "source": [
    "# 분산행렬 (Scatter Matrix)\n",
    "### data science study pg206\n",
    "~~~\n",
    "임의의 실수 행렬 X에 대해 X.T @ X인 정방행렬을 분산행렬이라고 한다,\n",
    "분산행렬의 의미는 확률분포에서 공부\n",
    "~~~\n",
    "**분산행렬은 양의 준정부호(positive demidefinite)이고 고윳값은 0보다 크거나 같다**"
   ]
  },
  {
   "cell_type": "markdown",
   "metadata": {},
   "source": [
    "### 3.3.9 연습문제)\n",
    "* 1) 불꽃 특징 데이터 행렬 x의 분산행렬을 구하고 이 분산행렬의 고윳값을 구하라\n",
    "* 2) 보스턴 집값 특징 데이터 행렬 x의 분산행렬을 구하고 이 분산행렬의 고윳값들을 구하라"
   ]
  },
  {
   "cell_type": "code",
   "execution_count": 1,
   "metadata": {},
   "outputs": [],
   "source": [
    "from sklearn.datasets import load_iris\n",
    "import numpy as np"
   ]
  },
  {
   "cell_type": "code",
   "execution_count": 2,
   "metadata": {},
   "outputs": [
    {
     "name": "stdout",
     "output_type": "stream",
     "text": [
      "고윳값인 w: [9.20830507e+03 3.15454317e+02 1.19780429e+01 3.55257020e+00]\n"
     ]
    }
   ],
   "source": [
    "iris=load_iris()\n",
    "X=iris.data\n",
    "\n",
    "COV=X.T@X                     #분산행렬 (실수 X에 대해 X.T@X인 정방행렬)\n",
    "w, V=np.linalg.eig(COV)       #분산행렬의 고윳값과 고유벡터 구하기\n",
    "print('고윳값인 w:', w)"
   ]
  },
  {
   "cell_type": "code",
   "execution_count": 4,
   "metadata": {},
   "outputs": [
    {
     "name": "stdout",
     "output_type": "stream",
     "text": [
      "고윳값인 w:\n",
      "[1.58386796e+08 1.18747372e+07 4.17002244e+05 1.61644573e+05\n",
      " 2.52697480e+04 1.47629635e+04 8.18396001e+03 6.07326738e+03\n",
      " 4.23577535e+03 6.06399504e+02 3.27412564e+02 3.04157837e+01\n",
      " 2.19326965e+00]\n"
     ]
    }
   ],
   "source": [
    "from sklearn.datasets import load_boston\n",
    "boston=load_boston()\n",
    "X=boston.data\n",
    "\n",
    "COV=X.T@X\n",
    "w, V=np.linalg.eig(COV)\n",
    "print('고윳값인 w:')\n",
    "print(w)"
   ]
  },
  {
   "cell_type": "code",
   "execution_count": null,
   "metadata": {},
   "outputs": [],
   "source": []
  }
 ],
 "metadata": {
  "kernelspec": {
   "display_name": "Python 3",
   "language": "python",
   "name": "python3"
  },
  "language_info": {
   "codemirror_mode": {
    "name": "ipython",
    "version": 3
   },
   "file_extension": ".py",
   "mimetype": "text/x-python",
   "name": "python",
   "nbconvert_exporter": "python",
   "pygments_lexer": "ipython3",
   "version": "3.7.6"
  }
 },
 "nbformat": 4,
 "nbformat_minor": 4
}
