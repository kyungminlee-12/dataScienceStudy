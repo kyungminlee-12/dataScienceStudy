{
 "cells": [
  {
   "cell_type": "markdown",
   "metadata": {},
   "source": [
    "# 넘파이를 사용한 고유분해\n",
    "### data science study pg 195\n",
    "\n",
    "* 고윳값: 벡터의 형태\n",
    "* 고유벡터: 행렬의 형태로 묶어서 나옴 (크기가 1인 단위벡터로 정규화)\n",
    "\n",
    "**넘파이의 linalg 서브패키지에서는 고윳값과 고유벡터를 구하는 eig() 명령을 제공한다.**\n",
    "~~~\n",
    "실수인 고윳값이 존재하지 않는 행렬에 대해서는 복소수인 고윳값과 고유벡터로 계산\n",
    "eig() 명령의 결과로 나오눈 고유벡터 행렬은 행이 아닌 열을 고유벡터로 가진다.\n",
    "~~~"
   ]
  },
  {
   "cell_type": "code",
   "execution_count": 1,
   "metadata": {},
   "outputs": [],
   "source": [
    "import numpy as np\n",
    "import matplotlib.pyplot as plt"
   ]
  },
  {
   "cell_type": "code",
   "execution_count": 2,
   "metadata": {},
   "outputs": [
    {
     "name": "stdout",
     "output_type": "stream",
     "text": [
      "[-0.99999998 -1.00000002]\n",
      "[[0.70710678 0.70710678]\n",
      " [0.70710678 0.70710678]]\n"
     ]
    }
   ],
   "source": [
    "A=np.array([[1, -2], [2, -3]])\n",
    "w1, V1=np.linalg.eig(A)   #이 함수는 고윳값과 고유벡터를 순서대로 return\n",
    "\n",
    "print(w1)    # 고윳값\n",
    "print(V1)    #고유벡터"
   ]
  },
  {
   "cell_type": "code",
   "execution_count": 3,
   "metadata": {},
   "outputs": [
    {
     "name": "stdout",
     "output_type": "stream",
     "text": [
      "[ 4. -1.]\n",
      "[[ 0.83205029 -0.70710678]\n",
      " [ 0.5547002   0.70710678]]\n"
     ]
    }
   ],
   "source": [
    "B=np.array([[2, 3], [2, 1]])\n",
    "w2, V2=np.linalg.eig(B)\n",
    "\n",
    "print(w2)\n",
    "print(V2)"
   ]
  },
  {
   "cell_type": "code",
   "execution_count": 4,
   "metadata": {},
   "outputs": [
    {
     "name": "stdout",
     "output_type": "stream",
     "text": [
      "[0.+1.j 0.-1.j]\n",
      "[[0.70710678+0.j         0.70710678-0.j        ]\n",
      " [0.        -0.70710678j 0.        +0.70710678j]]\n"
     ]
    }
   ],
   "source": [
    "C=np.array([[0, -1], [1, 0]])\n",
    "w3, V3=np.linalg.eig(C)\n",
    "\n",
    "print(w3)\n",
    "print(V3)"
   ]
  },
  {
   "cell_type": "code",
   "execution_count": null,
   "metadata": {},
   "outputs": [],
   "source": []
  }
 ],
 "metadata": {
  "kernelspec": {
   "display_name": "Python 3",
   "language": "python",
   "name": "python3"
  },
  "language_info": {
   "codemirror_mode": {
    "name": "ipython",
    "version": 3
   },
   "file_extension": ".py",
   "mimetype": "text/x-python",
   "name": "python",
   "nbconvert_exporter": "python",
   "pygments_lexer": "ipython3",
   "version": "3.7.6"
  }
 },
 "nbformat": 4,
 "nbformat_minor": 4
}
