{
 "cells": [
  {
   "cell_type": "markdown",
   "metadata": {},
   "source": [
    "# pgmpy\n",
    "### Data science school pg 423~424\n",
    "~~~\n",
    "pgmpy 패키지를 사용하면 이산확률 모형을 쉽게 구현할 수 있다.\n",
    "~~~\n",
    "## JointProbabilityDistribution\n",
    "~~~\n",
    "결합확률 모형을 만드는데 사용하는 class이다\n",
    "~~~\n",
    "* variables: 확률변수의 이름 문자열 list. 정의하려는 확률변수가 하나인 경우에도 list로 넣어야 한다\n",
    "* cardinality: 각 확률변수의 표본 혹은 배타적 사건의 수의 리스트\n",
    "* values: 확률변수의 모든 표본(조합)에 대한 (결합)확률값의 리스트\n",
    "~~~\n",
    "variables에 들어가는 인수가 사건의 이름이 아니라 확률변수의 이름이라는 점에 주의\n",
    "피지엠파이에서는 사건의 이름을 명시적으로 저장할 수 없고 입력한 사건의 수가 K일 때, 0, 1, ..., K-1과 같이 숫자로 지정\n",
    "~~~"
   ]
  },
  {
   "cell_type": "markdown",
   "metadata": {},
   "source": [
    "### 범인 찾기 예제)\n",
    "~~~\n",
    "성별을 나타내는 확률변수 X와 머리카락 길이를 나타내는 확률변수 Y의 확률을 다음과 같이 표로 정의\n",
    "~~~"
   ]
  },
  {
   "cell_type": "code",
   "execution_count": 6,
   "metadata": {},
   "outputs": [],
   "source": [
    "from pgmpy.factors.discrete import JointProbabilityDistribution as JPD\n",
    "import numpy as np"
   ]
  },
  {
   "cell_type": "code",
   "execution_count": 7,
   "metadata": {},
   "outputs": [
    {
     "name": "stdout",
     "output_type": "stream",
     "text": [
      "+------+--------+\n",
      "| X    |   P(X) |\n",
      "+======+========+\n",
      "| X(0) | 0.6000 |\n",
      "+------+--------+\n",
      "| X(1) | 0.4000 |\n",
      "+------+--------+\n"
     ]
    }
   ],
   "source": [
    "px=JPD(['X'], [2], np.array([12, 8])/20)\n",
    "print(px)"
   ]
  },
  {
   "cell_type": "markdown",
   "metadata": {},
   "source": [
    "### 6.5.6 연습문제)\n",
    "~~~\n",
    "위의 범인 찾기 문제의 예에서 확률변수 y의 확률을 JointProbabilityDistribution 클래스 객체 py로 구현하라\n",
    "~~~"
   ]
  },
  {
   "cell_type": "code",
   "execution_count": 10,
   "metadata": {},
   "outputs": [
    {
     "name": "stdout",
     "output_type": "stream",
     "text": [
      "+------+--------+\n",
      "| Y    |   P(Y) |\n",
      "+======+========+\n",
      "| Y(0) | 0.5000 |\n",
      "+------+--------+\n",
      "| Y(1) | 0.5000 |\n",
      "+------+--------+\n"
     ]
    }
   ],
   "source": [
    "pra_1=JPD(['Y'], [2], np.array([10, 10])/20)   #분자들을 다 합한 값이 분모\n",
    "print(pra_1)"
   ]
  },
  {
   "cell_type": "code",
   "execution_count": 8,
   "metadata": {},
   "outputs": [
    {
     "name": "stdout",
     "output_type": "stream",
     "text": [
      "+------+------+----------+\n",
      "| X    | Y    |   P(X,Y) |\n",
      "+======+======+==========+\n",
      "| X(0) | Y(0) |   0.1500 |\n",
      "+------+------+----------+\n",
      "| X(0) | Y(1) |   0.4500 |\n",
      "+------+------+----------+\n",
      "| X(1) | Y(0) |   0.3500 |\n",
      "+------+------+----------+\n",
      "| X(1) | Y(1) |   0.0500 |\n",
      "+------+------+----------+\n"
     ]
    }
   ],
   "source": [
    "pxy=JPD(['X', 'Y'], [2, 2], np.array([3, 9, 7, 1])/20)   #각 비율은 이미 결합한 후의 비유을 직접 나타냄\n",
    "print(pxy)"
   ]
  },
  {
   "cell_type": "markdown",
   "metadata": {},
   "source": [
    "### 6.5.7 연습문제)\n",
    "~~~\n",
    "위의 범인 찾기 문제의 예에서 남자 12명 중 머리카락이 긴 사람이 6명인 경우의 결합확률 모형을 JointProbabilityDistribution 클래스 객체 pxy2로 구현하라 \n",
    "~~~"
   ]
  },
  {
   "cell_type": "code",
   "execution_count": 11,
   "metadata": {},
   "outputs": [
    {
     "name": "stdout",
     "output_type": "stream",
     "text": [
      "+------+------+----------+\n",
      "| X    | Y    |   P(X,Y) |\n",
      "+======+======+==========+\n",
      "| X(0) | Y(0) |   0.3000 |\n",
      "+------+------+----------+\n",
      "| X(0) | Y(1) |   0.3000 |\n",
      "+------+------+----------+\n",
      "| X(1) | Y(0) |   0.2000 |\n",
      "+------+------+----------+\n",
      "| X(1) | Y(1) |   0.2000 |\n",
      "+------+------+----------+\n"
     ]
    }
   ],
   "source": [
    "pxy2=JPD(['X', 'Y'], [2, 2], np.array([6, 6, 4, 4])/20)\n",
    "print(pxy2)"
   ]
  },
  {
   "cell_type": "code",
   "execution_count": null,
   "metadata": {},
   "outputs": [],
   "source": []
  }
 ],
 "metadata": {
  "kernelspec": {
   "display_name": "Python 3",
   "language": "python",
   "name": "python3"
  },
  "language_info": {
   "codemirror_mode": {
    "name": "ipython",
    "version": 3
   },
   "file_extension": ".py",
   "mimetype": "text/x-python",
   "name": "python",
   "nbconvert_exporter": "python",
   "pygments_lexer": "ipython3",
   "version": "3.7.6"
  }
 },
 "nbformat": 4,
 "nbformat_minor": 4
}
